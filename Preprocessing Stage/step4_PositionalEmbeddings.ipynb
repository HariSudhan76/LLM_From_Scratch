{
 "cells": [
  {
   "cell_type": "code",
   "execution_count": 6,
   "id": "a94b760c",
   "metadata": {},
   "outputs": [],
   "source": [
    "import torch,tiktoken\n",
    "from torch.utils.data import DataLoader, Dataset"
   ]
  },
  {
   "cell_type": "code",
   "execution_count": 4,
   "id": "b5ff08bc",
   "metadata": {},
   "outputs": [],
   "source": [
    "##Create input target tensors\n",
    "class GPTDatasetV1(Dataset):\n",
    "    def __init__(self,txt,tokenizer, max_length,stride):\n",
    "        self.input_ids = []\n",
    "        self.target_ids = []\n",
    "\n",
    "        #Tokenize the entire text\n",
    "        token_ids = tokenizer.encode(txt, allowed_special={'|eos|'})\n",
    "\n",
    "        #Use sliding window to chunk the book into overlapping sequences of max_length\n",
    "        for i in range(0,len(token_ids) - max_length, stride):\n",
    "            input_chunk = token_ids[i:i+max_length]\n",
    "            target_chunk = token_ids[i+1:i+max_length+1]\n",
    "            self.input_ids.append(torch.tensor(input_chunk))\n",
    "            self.target_ids.append(torch.tensor(target_chunk))\n",
    "    \n",
    "    ##Dataloader requires Map-style or iterable style, dataloader will check the __getitem__ 1st and after that\n",
    "    # after that only it will go and create input and target chunk.\n",
    "    # getitem will clearly what input and target should be - its based on index\n",
    "\n",
    "        \n",
    "    def __len__(self):\n",
    "        return len(self.input_ids)\n",
    "\n",
    "    def __getitem__(self,idx): \n",
    "        return self.input_ids[idx],self.target_ids[idx]"
   ]
  },
  {
   "cell_type": "code",
   "execution_count": 5,
   "id": "a12a1d8e",
   "metadata": {},
   "outputs": [],
   "source": [
    "def create_dataloader_v1(txt, batch_size=4, max_length=256, stride=128, shuffle=True, drop_last=True,\n",
    "                         num_workers=0):\n",
    "    ##Initialize the tokenizer\n",
    "    tokenizer = tiktoken.get_encoding(\"gpt2\")\n",
    "\n",
    "    #Create dataset\n",
    "    dataset = GPTDatasetV1(txt, tokenizer, max_length, stride)\n",
    "\n",
    "    #Create dataloader\n",
    "    dataloader = DataLoader(\n",
    "        dataset,\n",
    "        batch_size=batch_size,\n",
    "        shuffle=shuffle,\n",
    "        drop_last=drop_last,\n",
    "        num_workers=num_workers\n",
    "    )\n",
    "    return dataloader"
   ]
  },
  {
   "cell_type": "code",
   "execution_count": 7,
   "id": "72628e44",
   "metadata": {},
   "outputs": [],
   "source": [
    "from pypdf import PdfReader\n",
    "reader = PdfReader(\"war-and-peace.pdf\")\n",
    "text = \"\"\n",
    "for page in reader.pages:\n",
    "    text += page.extract_text()\n",
    "\n",
    "raw_text = \"\"\n",
    "for page in reader.pages:\n",
    "    raw_text += page.extract_text()"
   ]
  },
  {
   "cell_type": "code",
   "execution_count": 3,
   "id": "82e65945",
   "metadata": {},
   "outputs": [],
   "source": [
    "vocab_size = 50257\n",
    "output_dim = 256\n",
    "\n",
    "token_embedding_layer = torch.nn.Embedding(vocab_size,output_dim)"
   ]
  },
  {
   "cell_type": "code",
   "execution_count": 8,
   "id": "3c68a6a9",
   "metadata": {},
   "outputs": [],
   "source": [
    "max_length = 4\n",
    "dataloader = create_dataloader_v1(\n",
    "    raw_text, batch_size=8, max_length=max_length,\n",
    "    stride = max_length, shuffle=True\n",
    ")\n",
    "data_iter = iter(dataloader)\n",
    "inputs,target = next(data_iter)"
   ]
  },
  {
   "cell_type": "code",
   "execution_count": 14,
   "id": "3a3facee",
   "metadata": {},
   "outputs": [
    {
     "name": "stdout",
     "output_type": "stream",
     "text": [
      "torch.Size([8, 4]) torch.Size([8, 4, 256])\n"
     ]
    }
   ],
   "source": [
    "emb_input = token_embedding_layer(inputs)\n",
    "print(inputs.shape, emb_input.shape)"
   ]
  },
  {
   "cell_type": "code",
   "execution_count": 15,
   "id": "d65751dd",
   "metadata": {},
   "outputs": [
    {
     "name": "stdout",
     "output_type": "stream",
     "text": [
      "torch.Size([4, 256])\n"
     ]
    }
   ],
   "source": [
    "context_length = max_length\n",
    "pos_emb_layer = torch.nn.Embedding(context_length,output_dim)\n",
    "pos_emb = pos_emb_layer(torch.arange(max_length))\n",
    "print(pos_emb.shape)"
   ]
  },
  {
   "cell_type": "code",
   "execution_count": 18,
   "id": "adfee4e6",
   "metadata": {},
   "outputs": [
    {
     "name": "stdout",
     "output_type": "stream",
     "text": [
      "torch.Size([8, 4, 256])\n"
     ]
    }
   ],
   "source": [
    "input_emb = emb_input+pos_emb\n",
    "print(input_emb.shape)"
   ]
  }
 ],
 "metadata": {
  "kernelspec": {
   "display_name": "base",
   "language": "python",
   "name": "python3"
  },
  "language_info": {
   "codemirror_mode": {
    "name": "ipython",
    "version": 3
   },
   "file_extension": ".py",
   "mimetype": "text/x-python",
   "name": "python",
   "nbconvert_exporter": "python",
   "pygments_lexer": "ipython3",
   "version": "3.10.16"
  }
 },
 "nbformat": 4,
 "nbformat_minor": 5
}
