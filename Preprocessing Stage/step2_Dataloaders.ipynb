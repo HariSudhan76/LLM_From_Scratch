{
 "cells": [
  {
   "cell_type": "code",
   "execution_count": 8,
   "id": "6abfb452",
   "metadata": {},
   "outputs": [],
   "source": [
    "from torch.utils.data import Dataset, DataLoader\n",
    "import torch\n",
    "import tiktoken"
   ]
  },
  {
   "cell_type": "code",
   "execution_count": 15,
   "id": "4aecfdb6",
   "metadata": {},
   "outputs": [],
   "source": [
    "##Create input target tensors\n",
    "class GPTDatasetV1(Dataset):\n",
    "    def __init__(self,txt,tokenizer, max_length,stride):\n",
    "        self.input_ids = []\n",
    "        self.target_ids = []\n",
    "\n",
    "        #Tokenize the entire text\n",
    "        token_ids = tokenizer.encode(txt, allowed_special={'|eos|'})\n",
    "\n",
    "        #Use sliding window to chunk the book into overlapping sequences of max_length\n",
    "        for i in range(0,len(token_ids) - max_length, stride):\n",
    "            input_chunk = token_ids[i:i+max_length]\n",
    "            target_chunk = token_ids[i+1:i+max_length+1]\n",
    "            self.input_ids.append(torch.tensor(input_chunk))\n",
    "            self.target_ids.append(torch.tensor(target_chunk))\n",
    "    \n",
    "    ##Dataloader requires Map-style or iterable style, dataloader will check the __getitem__ 1st and after that\n",
    "    # after that only it will go and create input and target chunk.\n",
    "    # getitem will clearly what input and target should be - its based on index\n",
    "\n",
    "        \n",
    "    def __len__(self):\n",
    "        return len(self.input_ids)\n",
    "\n",
    "    def __getitem__(self,idx): \n",
    "        return self.input_ids[idx],self.target_ids[idx]"
   ]
  },
  {
   "cell_type": "markdown",
   "id": "03e38e9c",
   "metadata": {},
   "source": [
    "step 1: Initialize tokenizer\n",
    "\n",
    "step 2: Create dataset\n",
    "\n",
    "step 3: drop_last=True drops the last batch if it is shorter than the specified batch_size to prevent loss spikes during training \n",
    "\n",
    "step 4: The number of CPU processes to use for preprocessing"
   ]
  },
  {
   "cell_type": "code",
   "execution_count": null,
   "id": "cd07ba06",
   "metadata": {},
   "outputs": [],
   "source": [
    "##Will feed data into dataloaders\n",
    "#batch_size = no. of batches the model processes at once before it updates the parameters, to make\n",
    "    # model update its parameter quickly\n",
    "# Max_length - checks 256 words and predicts next word - LLMS like gpt2 works similarly\n",
    "##Stride - how much we need to skip before need to make next i/p target batch.\n",
    "##num_workers - no. of process that system can run on parallel - 0 all process.\n",
    "##Why dataloader - it will allow to do parallel processing, and analyze multiple batches 1 time\n",
    "\n",
    "def create_dataloader_v1(txt, batch_size=4, max_length=256, stride=128, shuffle=True, drop_last=True,\n",
    "                         num_workers=0):\n",
    "    ##Initialize the tokenizer\n",
    "    tokenizer = tiktoken.get_encoding(\"gpt2\")\n",
    "\n",
    "    #Create dataset\n",
    "    dataset = GPTDatasetV1(txt, tokenizer, max_length, stride)\n",
    "\n",
    "    #Create dataloader\n",
    "    dataloader = DataLoader(\n",
    "        dataset,\n",
    "        batch_size=batch_size,\n",
    "        shuffle=shuffle,\n",
    "        drop_last=drop_last,\n",
    "        num_workers=num_workers\n",
    "    )\n",
    "    return dataloader"
   ]
  },
  {
   "cell_type": "code",
   "execution_count": 13,
   "id": "d7dcefe4",
   "metadata": {},
   "outputs": [],
   "source": [
    "from pypdf import PdfReader\n",
    "reader = PdfReader(\"war-and-peace.pdf\")\n",
    "text = \"\"\n",
    "for page in reader.pages:\n",
    "    text += page.extract_text()\n",
    "\n",
    "raw_text = \"\"\n",
    "for page in reader.pages:\n",
    "    raw_text += page.extract_text()"
   ]
  },
  {
   "cell_type": "code",
   "execution_count": null,
   "id": "72691da1",
   "metadata": {},
   "outputs": [
    {
     "name": "stdout",
     "output_type": "stream",
     "text": [
      "Pytorch version: 2.7.1+cu118\n",
      "Input: tensor([[  220,   198, 13195,   290],\n",
      "        [  198, 13195,   290, 12689],\n",
      "        [13195,   290, 12689,   220],\n",
      "        [  290, 12689,   220,   198]])\n",
      "\n",
      " Target: tensor([[  198, 13195,   290, 12689],\n",
      "        [13195,   290, 12689,   220],\n",
      "        [  290, 12689,   220,   198],\n",
      "        [12689,   220,   198,  3123]])\n"
     ]
    }
   ],
   "source": [
    "import torch\n",
    "print(\"Pytorch version:\", torch.__version__)\n",
    "dataloader = create_dataloader_v1(\n",
    "    raw_text,batch_size=4,max_length=4,stride=1,shuffle=False\n",
    ")\n",
    "\n",
    "data_iter = iter(dataloader)\n",
    "input,target = next(data_iter)\n",
    "print(f\"Input: {input}\\n\\n Target: {target[0]}\")"
   ]
  },
  {
   "cell_type": "code",
   "execution_count": 19,
   "id": "27272b7a",
   "metadata": {},
   "outputs": [
    {
     "name": "stdout",
     "output_type": "stream",
     "text": [
      "[tensor([[12689,   220,   198,  3123],\n",
      "        [  220,   198,  3123,    78],\n",
      "        [  198,  3123,    78, 20054],\n",
      "        [ 3123,    78, 20054,   301]]), tensor([[  220,   198,  3123,    78],\n",
      "        [  198,  3123,    78, 20054],\n",
      "        [ 3123,    78, 20054,   301],\n",
      "        [   78, 20054,   301,   726]])]\n"
     ]
    }
   ],
   "source": [
    "second_batch = next(data_iter)\n",
    "print(second_batch)"
   ]
  },
  {
   "cell_type": "code",
   "execution_count": null,
   "id": "1113c265",
   "metadata": {},
   "outputs": [
    {
     "name": "stdout",
     "output_type": "stream",
     "text": [
      "Input: tensor([[  220,   198, 13195,   290],\n",
      "        [  198, 13195,   290, 12689],\n",
      "        [13195,   290, 12689,   220],\n",
      "        [  290, 12689,   220,   198]])\n",
      "\n",
      " Target: [tensor(198), tensor(13195), tensor(290), tensor(12689)]\n"
     ]
    }
   ],
   "source": [
    "print(f\"Input: {input}\\n\\n Target: {[p[0] for p in target]}\")\n",
    "\n",
    "\n"
   ]
  }
 ],
 "metadata": {
  "kernelspec": {
   "display_name": "base",
   "language": "python",
   "name": "python3"
  },
  "language_info": {
   "codemirror_mode": {
    "name": "ipython",
    "version": 3
   },
   "file_extension": ".py",
   "mimetype": "text/x-python",
   "name": "python",
   "nbconvert_exporter": "python",
   "pygments_lexer": "ipython3",
   "version": "3.10.16"
  }
 },
 "nbformat": 4,
 "nbformat_minor": 5
}
