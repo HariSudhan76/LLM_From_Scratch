{
 "cells": [
  {
   "cell_type": "code",
   "execution_count": 1,
   "id": "43d18136",
   "metadata": {},
   "outputs": [],
   "source": [
    "import numpy as np\n",
    "import pandas as pd\n",
    "import torch\n",
    "# num = []\n",
    "# i=0\n",
    "# while i<6:\n",
    "#     num.append((np.random.randint(1,101,size=3)*.01).tolist())\n",
    "#     i+=1\n",
    "# inputs = torch.tensor(num)\n",
    "inputs = torch.tensor([\n",
    "    [.43,.15,.89],\n",
    "    [.55,.87,.66],\n",
    "    [.57,.85,.64],\n",
    "    [.22,.58,.33],\n",
    "    [.77,.25,.10],\n",
    "    [.05,.80,.55]\n",
    "])\n"
   ]
  },
  {
   "cell_type": "markdown",
   "id": "6d6ac071",
   "metadata": {},
   "source": [
    "A the second input element\n",
    "B the input embedding size, d=3\n",
    "C the output embedding size, d_out=2\n",
    "\n",
    "We need to initialize the size that matches with the input column dimension for matrix calculation"
   ]
  },
  {
   "cell_type": "code",
   "execution_count": null,
   "id": "054ad6ae",
   "metadata": {},
   "outputs": [],
   "source": [
    "x_2 = inputs[1] #A 1 means taking \"Journey\" as query for \n",
    "d_in = inputs.shape[1]  #B 1 means column size which is 3, 6X3\n",
    "d_out = 2 #C for illustration we are using 2 otherwise it will be same as d_in"
   ]
  },
  {
   "cell_type": "markdown",
   "id": "96b51ef8",
   "metadata": {},
   "source": [
    "Initialize 3 weigt matrix Wq, Wk and Wv"
   ]
  },
  {
   "cell_type": "code",
   "execution_count": 5,
   "id": "ffa226bd",
   "metadata": {},
   "outputs": [
    {
     "name": "stdout",
     "output_type": "stream",
     "text": [
      "Parameter containing:\n",
      "tensor([[0.1869, 0.9613],\n",
      "        [0.6834, 0.8988],\n",
      "        [0.0505, 0.5555]]) \n",
      "\n",
      " Key: Parameter containing:\n",
      "tensor([[0.7861, 0.0566],\n",
      "        [0.7842, 0.1480],\n",
      "        [0.0388, 0.1037]]) \n",
      "\n",
      " Value: Parameter containing:\n",
      "tensor([[0.4216, 0.2373],\n",
      "        [0.8111, 0.5340],\n",
      "        [0.6834, 0.6528]])\n"
     ]
    }
   ],
   "source": [
    "torch.manual_seed(45)\n",
    "W_query = torch.nn.Parameter(torch.rand(d_in,d_out), requires_grad=False)\n",
    "W_key = torch.nn.Parameter(torch.rand(d_in,d_out),requires_grad=False)\n",
    "W_value = torch.nn.Parameter(torch.rand(d_in,d_out),requires_grad=False)\n",
    "print(W_query,\"\\n\\n Key:\", W_key, \"\\n\\n Value:\", W_value)"
   ]
  },
  {
   "cell_type": "markdown",
   "id": "4ce3f0dc",
   "metadata": {},
   "source": [
    "Journey vector is multiplied with query, key and value"
   ]
  },
  {
   "cell_type": "code",
   "execution_count": 12,
   "id": "810d0b17",
   "metadata": {},
   "outputs": [
    {
     "name": "stdout",
     "output_type": "stream",
     "text": [
      "tensor([0.7308, 1.6773])\n"
     ]
    }
   ],
   "source": [
    "query_2 = x_2 @ W_query\n",
    "key_2 = x_2 @ W_key\n",
    "value_2 = x_2 @ W_value\n",
    "\n",
    "print(query_2)\n"
   ]
  },
  {
   "cell_type": "markdown",
   "id": "d1c962ba",
   "metadata": {},
   "source": [
    "inputs and each q,k,v matrix multiplied"
   ]
  },
  {
   "cell_type": "code",
   "execution_count": 14,
   "id": "fce33be7",
   "metadata": {},
   "outputs": [
    {
     "name": "stdout",
     "output_type": "stream",
     "text": [
      "tensor([[0.2279, 1.0425],\n",
      "        [0.7308, 1.6773],\n",
      "        [0.7198, 1.6674],\n",
      "        [0.4542, 0.9161],\n",
      "        [0.3199, 1.0205],\n",
      "        [0.5839, 1.0726]])\n"
     ]
    }
   ],
   "source": [
    "query = inputs @ W_query\n",
    "key = inputs @ W_key\n",
    "value = inputs @ W_value\n",
    "print(query)"
   ]
  },
  {
   "cell_type": "code",
   "execution_count": null,
   "id": "8e7b3769",
   "metadata": {},
   "outputs": [
    {
     "name": "stdout",
     "output_type": "stream",
     "text": [
      "tensor([0.5912, 1.2163, 1.2092, 0.6904, 0.7410, 0.8018])\n"
     ]
    }
   ],
   "source": [
    "atten_scores_2 = query_2 @ key.T\n",
    "print(atten_scores_2) # for getting attn score of Journey and key matrix"
   ]
  },
  {
   "cell_type": "code",
   "execution_count": 18,
   "id": "7e914f83",
   "metadata": {},
   "outputs": [
    {
     "name": "stdout",
     "output_type": "stream",
     "text": [
      "tensor([[0.2565, 0.4979, 0.4936, 0.2841, 0.2783, 0.3426],\n",
      "        [0.5912, 1.2163, 1.2092, 0.6904, 0.7410, 0.8018],\n",
      "        [0.5844, 1.2015, 1.1945, 0.6821, 0.7313, 0.7925],\n",
      "        [0.3499, 0.7271, 0.7232, 0.4124, 0.4491, 0.4758],\n",
      "        [0.2985, 0.5978, 0.5935, 0.3401, 0.3504, 0.4020],\n",
      "        [0.4352, 0.9107, 0.9061, 0.5162, 0.5677, 0.5929]])\n"
     ]
    }
   ],
   "source": [
    "attn_scores = query @ key.T \n",
    "print(attn_scores) # for getting all the query with all other keys"
   ]
  },
  {
   "cell_type": "markdown",
   "id": "1c0fdf63",
   "metadata": {},
   "source": [
    "scale by sqrt(d-keys) - for stability in learning"
   ]
  },
  {
   "cell_type": "code",
   "execution_count": 23,
   "id": "e0c6da5c",
   "metadata": {},
   "outputs": [
    {
     "name": "stdout",
     "output_type": "stream",
     "text": [
      "tensor([0.1342, 0.2089, 0.2078, 0.1440, 0.1493, 0.1558])\n",
      "2\n"
     ]
    }
   ],
   "source": [
    "d_k = key.shape[-1] ##-1 means selecting the column\n",
    "attn_weights_2 = torch.softmax(atten_scores_2/np.sqrt(d_k),dim=-1)\n",
    "print(attn_weights_2)\n",
    "print(d_k)"
   ]
  }
 ],
 "metadata": {
  "kernelspec": {
   "display_name": "Python 3",
   "language": "python",
   "name": "python3"
  },
  "language_info": {
   "codemirror_mode": {
    "name": "ipython",
    "version": 3
   },
   "file_extension": ".py",
   "mimetype": "text/x-python",
   "name": "python",
   "nbconvert_exporter": "python",
   "pygments_lexer": "ipython3",
   "version": "3.10.11"
  }
 },
 "nbformat": 4,
 "nbformat_minor": 5
}
